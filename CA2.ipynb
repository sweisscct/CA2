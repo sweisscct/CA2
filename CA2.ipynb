{
 "cells": [
  {
   "cell_type": "code",
   "execution_count": 1,
   "id": "201bfc29",
   "metadata": {
    "ExecuteTime": {
     "end_time": "2022-12-12T21:12:11.487220Z",
     "start_time": "2022-12-12T21:12:11.479214Z"
    }
   },
   "outputs": [],
   "source": [
    "# rectangle"
   ]
  },
  {
   "cell_type": "code",
   "execution_count": null,
   "id": "764c2788",
   "metadata": {},
   "outputs": [],
   "source": []
  }
 ],
 "metadata": {
  "kernelspec": {
   "display_name": "Python 3 (ipykernel)",
   "language": "python",
   "name": "python3"
  },
  "language_info": {
   "codemirror_mode": {
    "name": "ipython",
    "version": 3
   },
   "file_extension": ".py",
   "mimetype": "text/x-python",
   "name": "python",
   "nbconvert_exporter": "python",
   "pygments_lexer": "ipython3",
   "version": "3.9.12"
  }
 },
 "nbformat": 4,
 "nbformat_minor": 5
}
